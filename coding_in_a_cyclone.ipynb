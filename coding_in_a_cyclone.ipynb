{
  "cells": [
    {
      "cell_type": "raw",
      "metadata": {},
      "source": [
        "---\n",
        "title: \"Coding in a Cyclone\"\n",
        "subtitle: \"Open source and the public sector in the birthplace of R\"\n",
        "author: \"Lee Durbin | Auckland Council\"\n",
        "format: revealjs\n",
        "editor: visual\n",
        "---"
      ],
      "id": "bf99cc6b"
    },
    {
      "cell_type": "markdown",
      "metadata": {},
      "source": [
        "## \n",
        "\n",
        "![](images/welsh_flag.svg)\n",
        "\n",
        "## \n",
        "\n",
        "![](images/Flag_of_New_Zealand.svg)\n",
        "\n",
        "## \n",
        "\n",
        "![](images/auckland.jpg)\n",
        "\n",
        "##\n",
        "\n",
        "![](images/profile_pic_preferred.png)\n",
        "\n",
        "##\n",
        "\n",
        "![](images/jacinda.jpg)\n",
        "\n",
        "##\n",
        "\n",
        "![](images/airport_floods.avif)\n",
        "\n",
        "##\n",
        "\n",
        "![](images/cyclone.jpg)\n",
        "\n",
        "## Slide {.center}\n",
        "\n",
        "\n",
        "```{css}\n",
        ".center h2 {\n",
        "  text-align: center;\n",
        "}\n",
        "```\n",
        "\n",
        "\n",
        "## Bullets\n",
        "\n",
        "When you click the **Render** button a document will be generated that includes:\n",
        "\n",
        "-   Content authored with markdown\n",
        "-   Output from executable code\n"
      ],
      "id": "b50195de"
    }
  ],
  "metadata": {
    "kernelspec": {
      "display_name": "Python 3",
      "language": "python",
      "name": "python3"
    }
  },
  "nbformat": 4,
  "nbformat_minor": 5
}